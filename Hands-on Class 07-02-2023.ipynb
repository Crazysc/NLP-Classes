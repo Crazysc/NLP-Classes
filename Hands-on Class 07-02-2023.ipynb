{
 "cells": [
  {
   "cell_type": "code",
   "execution_count": 1,
   "id": "9b98e54d",
   "metadata": {},
   "outputs": [],
   "source": [
    "import nltk"
   ]
  },
  {
   "cell_type": "code",
   "execution_count": 3,
   "id": "982bda43",
   "metadata": {},
   "outputs": [],
   "source": [
    "from urllib import request"
   ]
  },
  {
   "cell_type": "code",
   "execution_count": 9,
   "id": "72922610",
   "metadata": {},
   "outputs": [],
   "source": [
    "url=\"https://www.gutenberg.org/files/98/98-0.txt\""
   ]
  },
  {
   "cell_type": "code",
   "execution_count": 10,
   "id": "a4111b0a",
   "metadata": {},
   "outputs": [],
   "source": [
    "response= request.urlopen(url)\n",
    "raw= response.read().decode('UTF-8')"
   ]
  },
  {
   "cell_type": "code",
   "execution_count": 11,
   "id": "15f15472",
   "metadata": {},
   "outputs": [],
   "source": [
    "from nltk.tokenize import word_tokenize\n",
    "tokens= word_tokenize(raw)"
   ]
  },
  {
   "cell_type": "code",
   "execution_count": 12,
   "id": "9f00eeab",
   "metadata": {},
   "outputs": [],
   "source": [
    "#Explore beautiful soup"
   ]
  },
  {
   "cell_type": "code",
   "execution_count": 13,
   "id": "7ccff88f",
   "metadata": {},
   "outputs": [
    {
     "name": "stdout",
     "output_type": "stream",
     "text": [
      "['\\ufeffThe', 'Project', 'Gutenberg', 'eBook', 'of', 'A', 'Tale', 'of', 'Two', 'Cities', ',', 'by', 'Charles', 'Dickens', 'This', 'eBook', 'is', 'for', 'the', 'use']\n"
     ]
    }
   ],
   "source": [
    "print(tokens[:20])"
   ]
  },
  {
   "cell_type": "code",
   "execution_count": 22,
   "id": "f827dada",
   "metadata": {},
   "outputs": [
    {
     "data": {
      "text/plain": [
       "'happi'"
      ]
     },
     "execution_count": 22,
     "metadata": {},
     "output_type": "execute_result"
    }
   ],
   "source": [
    "#STEMMING ALGORITHMS\n",
    "\n",
    "from nltk.stem import PorterStemmer as PS\n",
    "porter= PorterStemmer()\n",
    "porter.stem('happiness')"
   ]
  },
  {
   "cell_type": "code",
   "execution_count": 23,
   "id": "127fe6f0",
   "metadata": {},
   "outputs": [
    {
     "data": {
      "text/plain": [
       "'happy'"
      ]
     },
     "execution_count": 23,
     "metadata": {},
     "output_type": "execute_result"
    }
   ],
   "source": [
    "from nltk.stem import LancasterStemmer as LS\n",
    "Lanc= LS()\n",
    "Lanc.stem('happiness')"
   ]
  },
  {
   "cell_type": "code",
   "execution_count": 24,
   "id": "909d7c9e",
   "metadata": {},
   "outputs": [
    {
     "data": {
      "text/plain": [
       "'walk'"
      ]
     },
     "execution_count": 24,
     "metadata": {},
     "output_type": "execute_result"
    }
   ],
   "source": [
    "from nltk.stem import RegexpStemmer as RS\n",
    "reg= RS('ing')\n",
    "reg.stem('walking')"
   ]
  },
  {
   "cell_type": "code",
   "execution_count": 25,
   "id": "1a5a3bdd",
   "metadata": {},
   "outputs": [
    {
     "data": {
      "text/plain": [
       "'s'"
      ]
     },
     "execution_count": 25,
     "metadata": {},
     "output_type": "execute_result"
    }
   ],
   "source": [
    "reg.stem('singing')"
   ]
  },
  {
   "cell_type": "code",
   "execution_count": 26,
   "id": "851b5aba",
   "metadata": {},
   "outputs": [
    {
     "data": {
      "text/plain": [
       "'runn'"
      ]
     },
     "execution_count": 26,
     "metadata": {},
     "output_type": "execute_result"
    }
   ],
   "source": [
    "reg.stem('running')"
   ]
  },
  {
   "cell_type": "code",
   "execution_count": 27,
   "id": "5ecc9c80",
   "metadata": {},
   "outputs": [
    {
     "data": {
      "text/plain": [
       "'avoir'"
      ]
     },
     "execution_count": 27,
     "metadata": {},
     "output_type": "execute_result"
    }
   ],
   "source": [
    "from nltk.stem import SnowballStemmer as SS\n",
    "snow= SS('french')\n",
    "snow.stem('avoir')"
   ]
  },
  {
   "cell_type": "code",
   "execution_count": 33,
   "id": "63bcb358",
   "metadata": {},
   "outputs": [
    {
     "name": "stdout",
     "output_type": "stream",
     "text": [
      "there were a king with a larg jaw and a queen with a plain face, on the throne of england; there were a king with a larg jaw and a queen with a fair face, on the throne of france. in both countri it wa clearer than crystal to the lord of the state preserv of loav and fishes, that thing in gener were settl for everi\n"
     ]
    }
   ],
   "source": [
    "#USing Porter Stemmer\n",
    "\n",
    "text= \"There were a king with a large jaw and a queen with a plain face, on the throne of England; there were a king with a large jaw and a queen with a fair face, on the throne of France. In both countries it was clearer than crystal to the lords of the State preserves of loaves and fishes, that things in general were settled for every\"\n",
    "text= [porter.stem(token) for token in text.split(\" \")]\n",
    "print(\" \".join(text))"
   ]
  },
  {
   "cell_type": "code",
   "execution_count": 34,
   "id": "5eea935c",
   "metadata": {},
   "outputs": [
    {
     "name": "stdout",
     "output_type": "stream",
     "text": [
      "ther wer a king with a larg jaw and a queen with a plain face, on the throne of england; ther wer a king with a larg jaw and a queen with a fair face, on the throne of france. in both country it was clear than cryst to the lord of the stat preserv of loav and fishes, that thing in gen wer settl for every\n"
     ]
    }
   ],
   "source": [
    "#Using Lancester\n",
    "text= \"There were a king with a large jaw and a queen with a plain face, on the throne of England; there were a king with a large jaw and a queen with a fair face, on the throne of France. In both countries it was clearer than crystal to the lords of the State preserves of loaves and fishes, that things in general were settled for every\"\n",
    "text= [Lanc.stem(token) for token in text.split(\" \")]\n",
    "print(\" \".join(text))"
   ]
  },
  {
   "cell_type": "code",
   "execution_count": null,
   "id": "9acf7278",
   "metadata": {},
   "outputs": [],
   "source": []
  }
 ],
 "metadata": {
  "kernelspec": {
   "display_name": "Python 3 (ipykernel)",
   "language": "python",
   "name": "python3"
  },
  "language_info": {
   "codemirror_mode": {
    "name": "ipython",
    "version": 3
   },
   "file_extension": ".py",
   "mimetype": "text/x-python",
   "name": "python",
   "nbconvert_exporter": "python",
   "pygments_lexer": "ipython3",
   "version": "3.9.13"
  }
 },
 "nbformat": 4,
 "nbformat_minor": 5
}
